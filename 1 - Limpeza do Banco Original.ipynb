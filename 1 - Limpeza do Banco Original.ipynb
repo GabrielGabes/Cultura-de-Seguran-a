{
 "cells": [
  {
   "cell_type": "code",
   "execution_count": 1,
   "id": "76d98670",
   "metadata": {},
   "outputs": [
    {
     "ename": "ModuleNotFoundError",
     "evalue": "No module named 'tableone'",
     "output_type": "error",
     "traceback": [
      "\u001b[1;31m---------------------------------------------------------------------------\u001b[0m",
      "\u001b[1;31mModuleNotFoundError\u001b[0m                       Traceback (most recent call last)",
      "Cell \u001b[1;32mIn[1], line 10\u001b[0m\n\u001b[0;32m      7\u001b[0m \u001b[38;5;28;01mfrom\u001b[39;00m \u001b[38;5;21;01mnumpy\u001b[39;00m \u001b[38;5;28;01mimport\u001b[39;00m NaN\n\u001b[0;32m      9\u001b[0m \u001b[38;5;28;01mimport\u001b[39;00m \u001b[38;5;21;01mpyperclip\u001b[39;00m\n\u001b[1;32m---> 10\u001b[0m \u001b[38;5;28;01mfrom\u001b[39;00m \u001b[38;5;21;01mtableone\u001b[39;00m \u001b[38;5;28;01mimport\u001b[39;00m TableOne\n\u001b[0;32m     12\u001b[0m \u001b[38;5;66;03m# Repositorio - Diretorio ############################\u001b[39;00m\n\u001b[0;32m     13\u001b[0m \u001b[38;5;28;01mimport\u001b[39;00m \u001b[38;5;21;01mshutil\u001b[39;00m\n",
      "\u001b[1;31mModuleNotFoundError\u001b[0m: No module named 'tableone'"
     ]
    }
   ],
   "source": [
    "## BIBLIOTECAS\n",
    "\n",
    "# Manipulação e Tratamento de dados ############################\n",
    "import openpyxl\n",
    "import pandas as pd\n",
    "import numpy as np\n",
    "from numpy import NaN\n",
    "\n",
    "import pyperclip\n",
    "from tableone import TableOne\n",
    "\n",
    "# Repositorio - Diretorio ############################\n",
    "import shutil\n",
    "import os\n",
    "\n",
    "# Manipulação de Strings ############################\n",
    "import re #regex\n",
    "import unidecode #arrumar textos\n",
    "\n",
    "#tempo\n",
    "import time\n",
    "from time import sleep\n",
    "\n",
    "#ignorando Warning inuteis ############################\n",
    "import warnings \n",
    "from pandas.errors import SettingWithCopyWarning\n",
    "warnings.simplefilter(action=\"ignore\", category=SettingWithCopyWarning)\n",
    "warnings.filterwarnings(action='ignore', category=FutureWarning)\n",
    "warnings.simplefilter(action='ignore', category=UserWarning)\n",
    "\n",
    "# Graficos ############################\n",
    "import matplotlib.pyplot as plt\n",
    "import matplotlib.cm as cm\n",
    "import matplotlib.dates as mdates\n",
    "\n",
    "plt.style.use('dark_background')\n",
    "plt.style.use('seaborn-v0_8-whitegrid')\n",
    "\n",
    "import seaborn as sns\n",
    "custom_palette = sns.color_palette(\"bright\")\n",
    "sns.palplot(custom_palette)\n",
    "sns.set_palette(\"bright\")\n",
    "\n",
    "# Definindo o estilo de fonte e tema\n",
    "import matplotlib.font_manager as fm #para alterar as fontes dos graficos\n",
    "fonte = fm.FontProperties(family=\"Calibri\", style=\"italic\")\n",
    "%matplotlib inline\n",
    "\n",
    "# TESTE ESTATISTICOS ############################ ANOVA\n",
    "import statistics\n",
    "import math\n",
    "\n",
    "from scipy import stats\n",
    "import statsmodels.api as sm\n",
    "from statsmodels.formula.api import ols\n",
    "from statsmodels.stats.stattools import durbin_watson #teste de autocorrelação"
   ]
  },
  {
   "cell_type": "code",
   "execution_count": null,
   "id": "c15634fe",
   "metadata": {},
   "outputs": [],
   "source": [
    "inicio = time.time() #iniciando o cronometro\n",
    "\n",
    "pasta = 'C:/Users/gabri/OneDrive/Documentos/Anestesia - CMA/Cultura de Segurança/1 - Dados Brutos'\n",
    "df = pd.read_excel(pasta + '/' + \"BANCO CULTURA.xlsx\")\n",
    "df.sample(5)\n",
    "\n",
    "fim = time.time() #encerrando cronometro\n",
    "print('Tempo para rodar a simulação:', round(fim - inicio, 3))"
   ]
  },
  {
   "cell_type": "code",
   "execution_count": null,
   "id": "9cf74679",
   "metadata": {},
   "outputs": [],
   "source": [
    "len(df)"
   ]
  },
  {
   "cell_type": "code",
   "execution_count": null,
   "id": "541edc30",
   "metadata": {},
   "outputs": [],
   "source": [
    "print(df.columns)\n",
    "display(df.sample(5))"
   ]
  },
  {
   "cell_type": "code",
   "execution_count": null,
   "id": "1323b2f0",
   "metadata": {},
   "outputs": [],
   "source": [
    "df = df.drop('Outro (especifique)', axis=1)\n",
    "df = df.drop('Outro (especifique)2', axis=1)\n",
    "df = df.drop('SEÇÃO I: Seus Comentários  Por favor, sinta-se à vontade para fazer quaisquer comentários sobre a segurança do paciente, erros ou  notificação de eventos em seu hospital.  ', axis=1)\n",
    "\n",
    "df = df.drop(df[df['22. Meu supervisor/gerente ignora problemas recorrentes na segurança do paciente'] == 'Algumas vezes'].index)\n",
    "df = df.reset_index(drop=True)\n",
    "\n",
    "df['5. Em sua função, você tipicamente tem contato ou interação direta com os pacientes?  '].fillna('b. NÃO, tipicamente não tenho contato ou interação direta com os pacientes.', inplace = True)\n",
    "df = df.drop('5. Em sua função, você tipicamente tem contato ou interação direta com os pacientes?  3', axis=1)\n",
    "df = df.drop('5. Em sua função, você tipicamente tem contato ou interação direta com os pacientes?  32', axis=1)\n",
    "\n",
    "coluna = '5. Em sua função, você tipicamente tem contato ou interação direta com os pacientes?  '\n",
    "counts = df[coluna].value_counts()\n",
    "percentages = df[coluna].value_counts(normalize=True).mul(100).round(1).astype(str) + '%'\n",
    "res = pd.DataFrame({'counts': counts, 'percentage': percentages})\n",
    "print(res)\n",
    "\n",
    "df_backup = df.copy()\n",
    "\n",
    "#df = df.drop('', axis=1)"
   ]
  },
  {
   "cell_type": "code",
   "execution_count": null,
   "id": "1897b8fd",
   "metadata": {},
   "outputs": [],
   "source": [
    "coluna = ' SEÇÃO H: 4. Qual é o seu cargo neste hospital? Marque UMA resposta que melhor descreva a sua função.'\n",
    "print(df[coluna].value_counts(),'\\n')\n",
    "\n",
    "df[\"Cargo\"] = np.nan\n",
    "df[\"Cargo\"][df[coluna] == 'Enfermeiro Supervisor/Coordenador/Gerente'] = 'Nursing Assistant'\n",
    "df[\"Cargo\"][df[coluna] == 'Enfermeiro(a) Assistencial'] = 'Nursing Assistant'\n",
    "df[\"Cargo\"][df[coluna] == 'Técnico de Enfermagem'] = 'Nursing Technician'\n",
    "df[\"Cargo\"][df[coluna] == 'Farmacêutico'] = 'Pharmacist'\n",
    "df[\"Cargo\"][df[coluna] == 'Ouvidor'] = 'Support Services'\n",
    "df[\"Cargo\"][df[coluna] == 'Assistente/Atendente/Secretária da Unidade'] = 'Support Services'\n",
    "df[\"Cargo\"][df[coluna] == 'Copeiro'] = 'Support Services'\n",
    "df[\"Cargo\"][df[coluna] == 'Administrativo (Recepções)'] = 'Administrative area'\n",
    "df[\"Cargo\"][df[coluna] == 'Psicologo'] = 'Psychologist'\n",
    "df[\"Cargo\"][df[coluna] == 'Médico plantonista terapia intensiva'] = 'Intensive Care Unit (ICU) Attending Physician'\n",
    "df[\"Cargo\"][df[coluna] == 'Radiologia)'] = 'Auxiliary Diagnostic and Therapeutic Services Physician'\n",
    "df[\"Cargo\"][df[coluna] == 'Fisioterapeuta'] = 'Physiotherapist'\n",
    "df[\"Cargo\"][df[coluna] == 'Nutricionista'] = 'Nutritionist'\n",
    "df[\"Cargo\"][df[coluna] == 'Técnico de exames (ex.: Eletrocardiograma Laboratório'] = 'Support Services'\n",
    "df[\"Cargo\"][df[coluna] == 'Auxiliar de Enfermagem'] = 'Nursing Technician'\n",
    "df[\"Cargo\"][df[coluna] == 'Médico staff cirúrgico'] = 'Surgical Staff Physician'\n",
    "df[\"Cargo\"][df[coluna] == 'Médico Gerente'] = 'Clinical Staff Physician'\n",
    "df[\"Cargo\"][df[coluna] == 'Médico staff clínico'] = 'Clinical Staff Physician'\n",
    "df[\"Cargo\"][df[coluna] == 'Concierge'] = 'Support Services'\n",
    "df[\"Cargo\"][df[coluna] == 'Farmacêutico Supervisor/Coordenador/Gerente'] = 'Pharmacist'\n",
    "df[\"Cargo\"][df[coluna] == 'Médico assistente -  clínico'] = 'Clinical Staff Physician'\n",
    "df[\"Cargo\"][df[coluna] == 'Assistente social'] = 'Support Services'\n",
    "df[\"Cargo\"][df[coluna] == 'Nutricionista Supervisor/Coordenador/Gerente'] = 'Nutritionist '\n",
    "df[\"Cargo\"][df[coluna] == 'Médico plantonista emergência'] = 'Clinical Staff Physician'\n",
    "df[\"Cargo\"][df[coluna] == 'Médico assistente - cirúrgico'] = 'Surgical Staff Physician'\n",
    "df[\"Cargo\"][df[coluna] == 'Médico SADT'] = 'Auxiliary Diagnostic and Therapeutic Services Physician'\n",
    "df[\"Cargo\"][df[coluna] == 'Fonoaudiólogo'] = 'Support Services'\n",
    "df[\"Cargo\"][df[coluna] == 'Terapeuta Ocupacional'] = 'Support Services'\n",
    "\n",
    "df = df.drop(' SEÇÃO H: 4. Qual é o seu cargo neste hospital? Marque UMA resposta que melhor descreva a sua função.', axis=1)\n",
    "\n",
    "print(df['Cargo'].value_counts(), '\\n')"
   ]
  },
  {
   "cell_type": "code",
   "execution_count": null,
   "id": "7f81ca03",
   "metadata": {},
   "outputs": [],
   "source": [
    "sum(pd.isnull(df['Acreditação']))"
   ]
  },
  {
   "cell_type": "code",
   "execution_count": null,
   "id": "cddf4e98",
   "metadata": {},
   "outputs": [],
   "source": [
    "df['Acreditação'][df['Acreditação'] == 'Não possui'] = 0\n",
    "df['Acreditação'][df['Acreditação'] == 0] = 0\n",
    "\n",
    "df['Acreditação2'] = df['Acreditação']\n",
    "\n",
    "df['Acreditação'][df['Acreditação'] == 'ONA 2'] = 'ONA'\n",
    "df['Acreditação'][df['Acreditação'] == 'ONA 3'] = 'ONA'\n",
    "df['Acreditação'][df['Acreditação'] == 'ONA 1'] = 'ONA'\n",
    "df['Acreditação'][df['Acreditação'] == 'Qmentum'] = 'Qmentum'\n",
    "df['Acreditação'][df['Acreditação'] == 'JCI'] = 'JCI'\n",
    "\n",
    "df['Acreditação2'][df['Acreditação2'] == 'N1'] = 'ONA 1'\n",
    "df['Acreditação'][df['Acreditação'] == 'N1'] = 'ONA'\n",
    "\n",
    "print(df['Acreditação'].value_counts(),'\\n')\n",
    "print(df['Acreditação2'].value_counts(),'\\n')\n",
    "\n",
    "###################################################3#\n",
    "df['acreditacao'] = 0\n",
    "df['acreditacao'][df['Acreditação'] != 0] = 1\n",
    "print(df['acreditacao'].value_counts())"
   ]
  },
  {
   "cell_type": "code",
   "execution_count": null,
   "id": "80975e93",
   "metadata": {
    "scrolled": true
   },
   "outputs": [],
   "source": [
    "df.describe(include='all').T.head()"
   ]
  },
  {
   "cell_type": "code",
   "execution_count": null,
   "id": "eb209465",
   "metadata": {},
   "outputs": [],
   "source": [
    "for coluna in df.columns:\n",
    "    print(coluna, '='*25)\n",
    "    counts = df[coluna].value_counts()\n",
    "    percentages = df[coluna].value_counts(normalize=True).mul(100).round(1).astype(str) + '%'\n",
    "\n",
    "    # Usando o método 'agg' para juntar contagens e porcentagens em uma mesma DataFrame\n",
    "    res = pd.DataFrame({'counts': counts, 'percentage': percentages})\n",
    "    print(res)\n",
    "    print('\\n')"
   ]
  },
  {
   "cell_type": "code",
   "execution_count": null,
   "id": "f141259e",
   "metadata": {},
   "outputs": [],
   "source": [
    "df_alianca = df[(df['Unidade'] == 'Aliança') & (df['Ano'] == 2022)]\n",
    "\n",
    "for coluna in df_alianca.columns:\n",
    "    print(coluna, '='*25)\n",
    "    counts = df_alianca[coluna].value_counts()\n",
    "    percentages = df_alianca[coluna].value_counts(normalize=True).mul(100).round(1).astype(str) + '%'\n",
    "\n",
    "    # Usando o método 'agg' para juntar contagens e porcentagens em uma mesma DataFrame\n",
    "    res = pd.DataFrame({'counts': counts, 'percentage': percentages})\n",
    "    print(res)\n",
    "    print('\\n')"
   ]
  },
  {
   "cell_type": "code",
   "execution_count": null,
   "id": "90c30f58",
   "metadata": {},
   "outputs": [],
   "source": [
    "lista1 = []\n",
    "lista2 = []\n",
    "\n",
    "for coluna in df.columns:\n",
    "    if 'Nunca + Raramente' in df[coluna].unique():\n",
    "        lista1.append(coluna)\n",
    "        #print('alteração 1:', '\"' + coluna + '\"')\n",
    "        \n",
    "        #df[coluna][df[coluna] == 'Maioria do tempo + Sempre'] = 1\n",
    "        #df[coluna][df[coluna] == 'Algumas vezes'] = 0\n",
    "        #df[coluna][df[coluna] == 'Nunca + Raramente'] = 0\n",
    "        #print(\"\\n\")\n",
    "    elif 'Nem um nem outro' in df[coluna].unique():\n",
    "        lista2.append(coluna)\n",
    "        #print('alteração 2:', '\"' + coluna + '\"')\n",
    "        \n",
    "        #df[coluna][df[coluna] == 'Concordo + Concordo totalmente'] = 0\n",
    "        #df[coluna][df[coluna] == 'Nem um nem outro'] = 0\n",
    "        #df[coluna][df[coluna] == 'Discordo + Discordo totalmente'] = 1\n",
    "        #print(\"\\n\")"
   ]
  },
  {
   "cell_type": "code",
   "execution_count": null,
   "id": "f88b7004",
   "metadata": {},
   "outputs": [],
   "source": [
    "lista1"
   ]
  },
  {
   "cell_type": "code",
   "execution_count": null,
   "id": "5e995291",
   "metadata": {},
   "outputs": [],
   "source": [
    "lista1.remove('28. Os funcionários têm receio de perguntar quando algo não parece certo')\n",
    "for coluna in lista1:\n",
    "    df[coluna][df[coluna] == 'Maioria do tempo + Sempre'] = 1\n",
    "    df[coluna][df[coluna] == 'Algumas vezes'] = 0\n",
    "    df[coluna][df[coluna] == 'Nunca + Raramente'] = 0\n",
    "\n",
    "coluna = '28. Os funcionários têm receio de perguntar quando algo não parece certo'\n",
    "df[coluna][df[coluna] == 'Maioria do tempo + Sempre'] = 0\n",
    "df[coluna][df[coluna] == 'Algumas vezes'] = 0\n",
    "df[coluna][df[coluna] == 'Nunca + Raramente'] = 1\n",
    "\n",
    "print('Ok - Continue')"
   ]
  },
  {
   "cell_type": "code",
   "execution_count": null,
   "id": "26c6112b",
   "metadata": {},
   "outputs": [],
   "source": [
    "lista2"
   ]
  },
  {
   "cell_type": "code",
   "execution_count": null,
   "id": "60944a4a",
   "metadata": {},
   "outputs": [],
   "source": [
    "lista_a2 = ['1. As pessoas se apoiam umas às outras nesta unidade',\n",
    "            '2. Temos pessoas suficientes para lidar com o volume de trabalho',\n",
    "            '3. Quando há muito trabalho a ser feito e rapidamente, trabalhamos juntos em equipe para realizar a tarefa',\n",
    "            '4. Nesta unidade, as pessoas se tratam com respeito',\n",
    "            '6. Estamos ativamente buscando melhorias para a segurança do paciente',\n",
    "            '9. Erros que ocorreram levaram a mudanças positivas nesta unidade',\n",
    "            '11. Quando uma área nesta unidade fica muito movimentada, as demais ajudam',\n",
    "            '13. Quando fazemos mudanças para melhorar a segurança do paciente, nós avaliamos sua efetividade',\n",
    "            '15. A segurança do paciente nunca é sacrificada em prol de se trabalhar mais',\n",
    "            '18. Nossos procedimentos e sistemas são bons para impedir que os erros aconteçam',\n",
    "            '19. Meu supervisor/gerente elogia quando vê um trabalho feito de acordo com os procedimentos estabelecidos para a segurança do paciente.',\n",
    "            '20. Meu supervisor/gerente considera seriamente as sugestões dos funcionários para melhorar a segurança do paciente',\n",
    "            '32. A administração do hospital cria um ambiente de trabalho que promove a segurança do paciente',\n",
    "            '35. Existe uma boa cooperação entre as unidades hospitalares que precisam trabalhar juntas',\n",
    "            '39. As ações da administração do hospital mostram que a segurança do paciente é uma prioridade máxima',\n",
    "            '41. As unidades do hospital trabalham bem juntas para prestar o melhor atendimento aos pacientes']\n",
    "for coluna in lista_a2:\n",
    "    df[coluna][df[coluna] == 'Concordo + Concordo totalmente'] = 1\n",
    "    df[coluna][df[coluna] == 'Nem um nem outro'] = 0\n",
    "    df[coluna][df[coluna] == 'Discordo + Discordo totalmente'] = 0\n",
    "    \n",
    "print('Ok - Continue')"
   ]
  },
  {
   "cell_type": "code",
   "execution_count": null,
   "id": "f23ef880",
   "metadata": {
    "scrolled": true
   },
   "outputs": [],
   "source": [
    "lista_a3 = ['5. Os funcionários desta unidade trabalham mais horas do que o recomendado no atendimento a pacientes',\n",
    "            '7. Utilizamos mais funcionários temporários do que o recomendado no atendimento a paciente',\n",
    "            '8. Os funcionários sentem que seus erros são usados contra eles',\n",
    "            '10. É apenas por acaso que erros mais sérios não acontecem por aqui',\n",
    "            '12. Quando um evento é notificado, sentimos que o foco se concentra no indivíduo, e não no problema',\n",
    "            '14. Trabalhamos “em modo de crise”, tentando fazer coisas demais, rápido demais',\n",
    "            '16. Os funcionários se preocupam que seus erros sejam registrados em seu arquivo funcional',\n",
    "            '17. Temos problemas com a segurança do paciente nesta unidade',\n",
    "            '21. Sempre que a pressão aumenta, meu supervisor/gerente quer que trabalhemos mais rápido, mesmo que isto signifique tomar atalhos',\n",
    "            '22. Meu supervisor/gerente ignora problemas recorrentes na segurança do paciente',\n",
    "            '33. As unidades hospitalares não se coordenam bem entre si.',\n",
    "            '34. Coisas \"escapam por entre os dedos” quando os pacientes são transferidos de uma unidade para outra',\n",
    "            '36. Importantes informações sobre a assistência se perdem durante as mudanças de turno',\n",
    "            '37. Muitas vezes é desagradável trabalhar unidades com funcionários de outras unidades do hospital',\n",
    "            '38. Os problemas com frequência ocorrem na troca de informações entre as unidades do hospital',\n",
    "            '40. A administração do hospital parece se interessar pela segurança do paciente apenas quando acontece um evento adverso',\n",
    "            '42. As mudanças de turno são problemáticas para os pacientes deste Hospital']\n",
    "\n",
    "for coluna in lista_a3:\n",
    "    df[coluna][df[coluna] == 'Concordo + Concordo totalmente'] = 0\n",
    "    df[coluna][df[coluna] == 'Nem um nem outro'] = 0\n",
    "    df[coluna][df[coluna] == 'Discordo + Discordo totalmente'] = 1\n",
    "    \n",
    "print('Ok - Continue')"
   ]
  },
  {
   "cell_type": "code",
   "execution_count": null,
   "id": "34db6402",
   "metadata": {
    "scrolled": true
   },
   "outputs": [],
   "source": [
    "for coluna in df.columns:\n",
    "    print(coluna, '='*25)\n",
    "    counts = df[coluna].value_counts()\n",
    "    percentages = df[coluna].value_counts(normalize=True).mul(100).round(1).astype(str) + '%'\n",
    "    res = pd.DataFrame({'counts': counts, 'percentage': percentages})\n",
    "    print(res)\n",
    "    print('\\n')"
   ]
  },
  {
   "cell_type": "code",
   "execution_count": null,
   "id": "ab455880",
   "metadata": {},
   "outputs": [],
   "source": [
    "lista = ['1. As pessoas se apoiam umas às outras nesta unidade',\n",
    "       '2. Temos pessoas suficientes para lidar com o volume de trabalho',\n",
    "       '3. Quando há muito trabalho a ser feito e rapidamente, trabalhamos juntos em equipe para realizar a tarefa',\n",
    "       '4. Nesta unidade, as pessoas se tratam com respeito',\n",
    "       '5. Os funcionários desta unidade trabalham mais horas do que o recomendado no atendimento a pacientes',\n",
    "       '6. Estamos ativamente buscando melhorias para a segurança do paciente',\n",
    "       '7. Utilizamos mais funcionários temporários do que o recomendado no atendimento a paciente',\n",
    "       '8. Os funcionários sentem que seus erros são usados contra eles',\n",
    "       '9. Erros que ocorreram levaram a mudanças positivas nesta unidade',\n",
    "       '10. É apenas por acaso que erros mais sérios não acontecem por aqui',\n",
    "       '11. Quando uma área nesta unidade fica muito movimentada, as demais ajudam',\n",
    "       '12. Quando um evento é notificado, sentimos que o foco se concentra no indivíduo, e não no problema',\n",
    "       '13. Quando fazemos mudanças para melhorar a segurança do paciente, nós avaliamos sua efetividade',\n",
    "       '14. Trabalhamos “em modo de crise”, tentando fazer coisas demais, rápido demais',\n",
    "       '15. A segurança do paciente nunca é sacrificada em prol de se trabalhar mais',\n",
    "       '16. Os funcionários se preocupam que seus erros sejam registrados em seu arquivo funcional',\n",
    "       '17. Temos problemas com a segurança do paciente nesta unidade',\n",
    "       '18. Nossos procedimentos e sistemas são bons para impedir que os erros aconteçam',\n",
    "       '19. Meu supervisor/gerente elogia quando vê um trabalho feito de acordo com os procedimentos estabelecidos para a segurança do paciente.',\n",
    "       '20. Meu supervisor/gerente considera seriamente as sugestões dos funcionários para melhorar a segurança do paciente',\n",
    "       '21. Sempre que a pressão aumenta, meu supervisor/gerente quer que trabalhemos mais rápido, mesmo que isto signifique tomar atalhos',\n",
    "       '22. Meu supervisor/gerente ignora problemas recorrentes na segurança do paciente',\n",
    "       '23. Recebemos feedback das mudanças implementadas com base nos eventos notificados',\n",
    "       '24. Os funcionários falam voluntariamente se vêem algo que possa afetar negativamente o atendimento aos pacientes',\n",
    "       '25. Somos informados sobre os erros que acontecem nesta unidade',\n",
    "       '26. Os funcionários sentem-se à vontade para questionar decisões ou ações dos que têm mais autoridade',\n",
    "       '27. Nesta unidade, discutimos maneiras de impedir que os erros tornem a acontecer',\n",
    "       '28. Os funcionários têm receio de perguntar quando algo não parece certo',\n",
    "       '29. Quando acontece um erro, mas ele é identificado e corrigido antes de afetar o paciente, com que frequência é notificado?',\n",
    "       '30. Quando acontece um erro, mas que não tem potencial de dano ao paciente, com que frequência é notificado?',\n",
    "       '31. Quando acontece um erro que poderia prejudicar o paciente, mas isto não ocorreu, com que frequência é notificado?',\n",
    "       'Por favor, dê uma nota geral para a segurança do paciente em sua área/unidade de trabalho hospitalar.',\n",
    "       '32. A administração do hospital cria um ambiente de trabalho que promove a segurança do paciente',\n",
    "       '33. As unidades hospitalares não se coordenam bem entre si.',\n",
    "       '34. Coisas \"escapam por entre os dedos” quando os pacientes são transferidos de uma unidade para outra',\n",
    "       '35. Existe uma boa cooperação entre as unidades hospitalares que precisam trabalhar juntas',\n",
    "       '36. Importantes informações sobre a assistência se perdem durante as mudanças de turno',\n",
    "       '37. Muitas vezes é desagradável trabalhar unidades com funcionários de outras unidades do hospital',\n",
    "       '38. Os problemas com frequência ocorrem na troca de informações entre as unidades do hospital',\n",
    "       '39. As ações da administração do hospital mostram que a segurança do paciente é uma prioridade máxima',\n",
    "       '40. A administração do hospital parece se interessar pela segurança do paciente apenas quando acontece um evento adverso',\n",
    "       '41. As unidades do hospital trabalham bem juntas para prestar o melhor atendimento aos pacientes',\n",
    "       '42. As mudanças de turno são problemáticas para os pacientes deste Hospital']"
   ]
  },
  {
   "cell_type": "markdown",
   "id": "4f0e9796",
   "metadata": {},
   "source": [
    "# verificando as proporções:"
   ]
  },
  {
   "cell_type": "code",
   "execution_count": null,
   "id": "de311d55",
   "metadata": {
    "scrolled": true
   },
   "outputs": [],
   "source": [
    "df_backup1 = df_backup[(df_backup['Ano'] == 2022) & (df_backup['Unidade'] == 'Aliança')].reset_index(drop=True)\n",
    "df1 = df[(df['Ano'] == 2022) & (df['Unidade'] == 'Anália Franco')].reset_index(drop=True)\n",
    "\n",
    "for coluna in lista:\n",
    "    print(coluna, '='*50)\n",
    "    \n",
    "    counts = df_backup1[coluna].value_counts()\n",
    "    percentages = df_backup1[coluna].value_counts(normalize=True).mul(100).round(1).astype(str) + '%'\n",
    "\n",
    "    # Usando o método 'agg' para juntar contagens e porcentagens em uma mesma DataFrame\n",
    "    res = pd.DataFrame({'counts': counts, 'percentage': percentages})\n",
    "    print(res)\n",
    "    \n",
    "    print('\\n')\n",
    "    #\n",
    "    \n",
    "    counts = df1[coluna].value_counts()\n",
    "    percentages = df1[coluna].value_counts(normalize=True).mul(100).round(1).astype(str) + '%'\n",
    "\n",
    "    # Usando o método 'agg' para juntar contagens e porcentagens em uma mesma DataFrame\n",
    "    res = pd.DataFrame({'counts': counts, 'percentage': percentages})\n",
    "    print(res)\n",
    "    \n",
    "    print('\\n')"
   ]
  },
  {
   "cell_type": "code",
   "execution_count": null,
   "id": "489486e1",
   "metadata": {},
   "outputs": [],
   "source": [
    "for i in df.columns:\n",
    "    print(i, '='*75)\n",
    "    print(df[i].unique())\n",
    "    print('\\n')"
   ]
  },
  {
   "cell_type": "code",
   "execution_count": null,
   "id": "a86bed5f",
   "metadata": {},
   "outputs": [],
   "source": [
    "coluna = 'SEÇÃO G: Número de Eventos Notificados  Nos últimos 12 meses, quantas notificações de evento você preencheu e enviou?'\n",
    "\n",
    "print(df[coluna].value_counts(), '\\n')\n",
    "df['SEÇÃO G2: Notificou algum evento nos ultimos 12 meses'] = 0\n",
    "df['SEÇÃO G2: Notificou algum evento nos ultimos 12 meses'][df[coluna] != 'a. Nenhuma notificações de eventos'] = 1\n",
    "df['SEÇÃO G2: Notificou algum evento nos ultimos 12 meses'][pd.isnull(df[coluna])] = np.nan\n",
    "print(df['SEÇÃO G2: Notificou algum evento nos ultimos 12 meses'].value_counts(),'\\n')\n",
    "\n",
    "#################################################################################################\n",
    "df[coluna][df[coluna] == 'a. Nenhuma notificações de eventos'] = '0. Nenhuma notificações de eventos'\n",
    "df[coluna][df[coluna] == 'b. 1 a 2 notificações de eventos'] = '1. 1 a 2 notificações de eventos'\n",
    "df[coluna][df[coluna] == 'c. 3 a 5 notificações de eventos'] = '2. 3 a 5 notificações de eventos'\n",
    "df[coluna][df[coluna] == 'd. 6 a 10 notificações de eventos'] = '3. 6 a 10 notificações de eventos'\n",
    "df[coluna][df[coluna] == 'e. 11 a 20 notificações de eventos'] = '4. 11 a 20 notificações de eventos'\n",
    "df[coluna][df[coluna] == 'f. 21 notificações de eventos ou mais'] = '5. 21 notificações de eventos ou mais'\n",
    "print(df[coluna].value_counts())\n",
    "\n",
    "# Gerando as variáveis dummy\n",
    "dummies = pd.get_dummies(df[coluna], prefix=coluna)\n",
    "df = pd.concat([df, dummies], axis=1)"
   ]
  },
  {
   "cell_type": "code",
   "execution_count": null,
   "id": "b338103e",
   "metadata": {},
   "outputs": [],
   "source": [
    "coluna = 'SEÇÃO H: 1. Há quanto tempo você trabalha neste hospital?'\n",
    "df[coluna].unique()"
   ]
  },
  {
   "cell_type": "code",
   "execution_count": null,
   "id": "b673aa12",
   "metadata": {
    "scrolled": true
   },
   "outputs": [],
   "source": [
    "#Na unidade tem muito funcionario que sobrecarregado ?\n",
    "coluna = 'SEÇÃO H: 3.Tipicamente, quantas horas por semana você trabalha neste hospital?  '\n",
    "print(df[coluna].value_counts(),'\\n')\n",
    "\n",
    "df['SEÇÃO H: 3.2 Trabalha mais que 40horas semanais'] = 1\n",
    "df['SEÇÃO H: 3.2 Trabalha mais que 40horas semanais'][(df[coluna] == 'a. Menos de 20 horas por semana') |\n",
    "                                                        (df[coluna] == 'b. 20 a 39 horas por semana')] = 0\n",
    "df['SEÇÃO H: 3.2 Trabalha mais que 40horas semanais'][pd.isnull(df[coluna])] = np.nan\n",
    "print(df['SEÇÃO H: 3.2 Trabalha mais que 40horas semanais'].value_counts(), '\\n')\n",
    "\n",
    "##########################################################################\n",
    "df['SEÇÃO H: 3.2 Trabalha mais que 60horas semanais'] = 1\n",
    "df['SEÇÃO H: 3.2 Trabalha mais que 60horas semanais'][(df[coluna] == 'a. Menos de 20 horas por semana') |\n",
    "                                                      (df[coluna] == 'b. 20 a 39 horas por semana') |\n",
    "                                                      (df[coluna] == 'c. 40 a 59 horas por semana')] = 0\n",
    "df['SEÇÃO H: 3.2 Trabalha mais que 60horas semanais'][pd.isnull(df[coluna])] = np.nan\n",
    "print(df['SEÇÃO H: 3.2 Trabalha mais que 60horas semanais'].value_counts(), '\\n')\n",
    "\n",
    "##########################################################################\n",
    "df['SEÇÃO H: 3.2 Trabalha mais que 80horas semanais'] = 0\n",
    "df['SEÇÃO H: 3.2 Trabalha mais que 80horas semanais'][(df[coluna] == 'e. 80 a 99 horas por semana') |\n",
    "                                                      (df[coluna] == 'f. 100 horas por semana ou mais')] = 1\n",
    "df['SEÇÃO H: 3.2 Trabalha mais que 80horas semanais'][pd.isnull(df[coluna])] = np.nan\n",
    "print(df['SEÇÃO H: 3.2 Trabalha mais que 80horas semanais'].value_counts(), '\\n')\n",
    "\n",
    "##########################################################################\n",
    "coluna2 = 'SEÇÃO H: Horas trabalhadas semanais'\n",
    "df[coluna2] = np.nan\n",
    "df[coluna2][df[coluna] == 'a. Menos de 20 horas por semana'] = '0. 20 a 39'\n",
    "df[coluna2][df[coluna] == 'b. 20 a 39 horas por semana'] = '0. 20 a 39'\n",
    "df[coluna2][df[coluna] == 'c. 40 a 59 horas por semana'] = '1. 40 a - 79'\n",
    "df[coluna2][df[coluna] == 'd. 60 a 79 horas por semana'] = '1. 40 a - 79'\n",
    "df[coluna2][df[coluna] == 'e. 80 a 99 horas por semana'] = '2. > 80'\n",
    "df[coluna2][df[coluna] == 'f. 100 horas por semana ou mais'] = '2. > 80'\n",
    "\n",
    "########################################################################## ARRUMANDO OS NIVEIS\n",
    "coluna = \"SEÇÃO H: 3.Tipicamente, quantas horas por semana você trabalha neste hospital?  \"\n",
    "df[coluna][df[coluna] == 'a. Menos de 20 horas por semana'] = '1. Menos de 20 horas por semana'\n",
    "df[coluna][df[coluna] == 'b. 20 a 39 horas por semana'] = '2. 20 a 39 horas por semana'\n",
    "df[coluna][df[coluna] == 'c. 40 a 59 horas por semana'] = '3. 40 a 59 horas por semana'\n",
    "df[coluna][df[coluna] == 'd. 60 a 79 horas por semana'] = '4. 60 a 79 horas por semana'\n",
    "df[coluna][df[coluna] == 'e. 80 a 99 horas por semana'] = '5. 80 a 99 horas por semana'\n",
    "df[coluna][df[coluna] == 'f. 100 horas por semana ou mais'] = '6. 100 horas por semana ou mais'"
   ]
  },
  {
   "cell_type": "code",
   "execution_count": null,
   "id": "63f3079d",
   "metadata": {},
   "outputs": [],
   "source": [
    "coluna = 'Por favor, dê uma nota geral para a segurança do paciente em sua área/unidade de trabalho hospitalar.'\n",
    "print(df[coluna].value_counts(),'\\n')\n",
    "\n",
    "# Gerando as variáveis dummy\n",
    "dummies = pd.get_dummies(df[coluna], prefix=coluna)\n",
    "df = pd.concat([df, dummies], axis=1)\n",
    "\n",
    "df['Nota Geral == Satisfatoria ?'] = 1\n",
    "df['Nota Geral == Satisfatoria ?'][(df[coluna] == 'Ruim') |\n",
    "                                   (df[coluna] == 'Muito ruim')] = 0\n",
    "df['Nota Geral == Satisfatoria ?'][pd.isnull(df[coluna])] = np.nan\n",
    "print(df['Nota Geral == Satisfatoria ?'].value_counts(), '\\n')\n",
    "\n",
    "##########################################################################\n",
    "df['Nota Geral == Boa ?'] = 1\n",
    "df['Nota Geral == Boa ?'][(df[coluna] == 'Ruim') |\n",
    "                          (df[coluna] == 'Muito ruim') |\n",
    "                         (df[coluna] == 'Satisfatória')] = 0\n",
    "df['Nota Geral == Boa ?'][pd.isnull(df[coluna])] = np.nan\n",
    "print(df['Nota Geral == Boa ?'].value_counts(), '\\n')\n",
    "\n",
    "##########################################################################\n",
    "df['Nota Geral'] = 1\n",
    "df['Nota Geral'][(df[coluna] == 'Ruim') |\n",
    "                   (df[coluna] == 'Muito ruim')] = 0\n",
    "df['Nota Geral'][df[coluna] == 'Satisfatória'] = 1\n",
    "df['Nota Geral'][(df[coluna] == 'Excelente') |\n",
    "                   (df[coluna] == 'Muito boa')] = 2\n",
    "df['Nota Geral'][pd.isnull(df[coluna])] = np.nan\n",
    "print(df['Nota Geral'].value_counts(), '\\n')\n",
    "\n",
    "########################################################################## ARRUMANDO NIVEIS\n",
    "df[coluna][df[coluna] == 'Muito ruim'] = '0. Muito ruim'\n",
    "df[coluna][df[coluna] == 'Ruim'] = '1. Ruim'\n",
    "df[coluna][df[coluna] == 'Satisfatória'] = '2. Satisfatória'\n",
    "df[coluna][df[coluna] == 'Excelente'] = '3. Excelente'\n",
    "df[coluna][df[coluna] == 'Muito boa'] = '4. Muito boa'\n",
    "print(df[coluna].value_counts(),'\\n')"
   ]
  },
  {
   "cell_type": "code",
   "execution_count": null,
   "id": "28395a8a",
   "metadata": {},
   "outputs": [],
   "source": [
    "df.columns"
   ]
  },
  {
   "cell_type": "code",
   "execution_count": null,
   "id": "13b02739",
   "metadata": {},
   "outputs": [],
   "source": [
    "print(df['SEÇÃO H: 1. Há quanto tempo você trabalha neste hospital?'].value_counts(), '\\n')\n",
    "\n",
    "#Verificar a rotatividade do hospital\n",
    "df['SEÇÃO H: 1.2 trabalha a mais de 1 ano no hospital?'] = 0\n",
    "df['SEÇÃO H: 1.2 trabalha a mais de 1 ano no hospital?'][df['SEÇÃO H: 1. Há quanto tempo você trabalha neste hospital?'] != 'menos de 1 ano'] = 1\n",
    "df['SEÇÃO H: 1.2 trabalha a mais de 1 ano no hospital?'][pd.isnull(df['SEÇÃO H: 1. Há quanto tempo você trabalha neste hospital?'])] = np.nan\n",
    "print(df['SEÇÃO H: 1.2 trabalha a mais de 1 ano no hospital?'].value_counts(), '\\n')\n",
    "\n",
    "df['SEÇÃO H: 1.3 trabalha a mais de 5 anos no hospital?'] = 1\n",
    "df['SEÇÃO H: 1.3 trabalha a mais de 5 anos no hospital?'][(df['SEÇÃO H: 1. Há quanto tempo você trabalha neste hospital?'] == 'menos de 1 ano') | \n",
    "                                                          (df['SEÇÃO H: 1. Há quanto tempo você trabalha neste hospital?'] == '1 a 5 anos')] = 0\n",
    "df['SEÇÃO H: 1.3 trabalha a mais de 5 anos no hospital?'][pd.isnull(df['SEÇÃO H: 1. Há quanto tempo você trabalha neste hospital?'])] = np.nan\n",
    "print(df['SEÇÃO H: 1.3 trabalha a mais de 5 anos no hospital?'].value_counts())\n"
   ]
  },
  {
   "cell_type": "code",
   "execution_count": null,
   "id": "2c37936e",
   "metadata": {
    "scrolled": true
   },
   "outputs": [],
   "source": [
    "colunas = [\"SEÇÃO H: 1. Há quanto tempo você trabalha neste hospital?\",\n",
    "           'SEÇÃO H: 2.Há quanto tempo você trabalha nesta área/unidade de trabalho hospitalar?',\n",
    "           \"6. Há quanto tempo você trabalha em sua profissão ou especialização atual?  \"]\n",
    "\n",
    "for coluna in colunas:\n",
    "    print('\\n')\n",
    "    df[coluna][df[coluna] == 'a. Menos de 1 ano'] = '0. Menos de 1 ano'\n",
    "    df[coluna][df[coluna] == 'Menos de 1 ano'] = '0. Menos de 1 ano'\n",
    "    df[coluna][df[coluna] == 'menos de 1 ano'] = '0. Menos de 1 ano'\n",
    "    \n",
    "    df[coluna][df[coluna] == 'b. 1 a 5 anos'] = '1. 1 a 5 anos'\n",
    "    df[coluna][df[coluna] == '1 a 5 anos'] = '1. 1 a 5 anos'\n",
    "    \n",
    "    df[coluna][df[coluna] == 'c. 6 a 10 anos'] = '2. 6 a 10 anos'\n",
    "    df[coluna][df[coluna] == '6 a 10 anos'] = '2. 6 a 10 anos'\n",
    "    \n",
    "    df[coluna][df[coluna] == 'd. 11 a 15 anos'] = '3. 11 a 15 anos'\n",
    "    df[coluna][df[coluna] == '11 a 15 anos'] = '3. 11 a 15 anos'\n",
    "    \n",
    "    df[coluna][df[coluna] == 'e. 16 a 20 anos'] = '4. 16 a 20 anos'\n",
    "    df[coluna][df[coluna] == '16 a 20 anos'] = '4. 16 a 20 anos'\n",
    "    \n",
    "    df[coluna][df[coluna] == 'f. 21 anos ou mais'] = '5. 21 anos ou mais'\n",
    "    df[coluna][df[coluna] == '21 anos ou mais'] = '5. 21 anos ou mais'\n",
    "    \n",
    "    print(df[coluna].value_counts())"
   ]
  },
  {
   "cell_type": "code",
   "execution_count": null,
   "id": "38bde8b4",
   "metadata": {},
   "outputs": [],
   "source": [
    "coluna = 'SEÇÃO H: 1. Há quanto tempo você trabalha neste hospital?'\n",
    "# Gerando as variáveis dummy\n",
    "dummies = pd.get_dummies(df[coluna], prefix=coluna)\n",
    "df = pd.concat([df, dummies], axis=1)"
   ]
  },
  {
   "cell_type": "code",
   "execution_count": null,
   "id": "8329b489",
   "metadata": {},
   "outputs": [],
   "source": [
    "df.columns"
   ]
  },
  {
   "cell_type": "code",
   "execution_count": null,
   "id": "90a9aac5",
   "metadata": {},
   "outputs": [],
   "source": [
    "df.columns = [col.strip() for col in df.columns]\n",
    "\n",
    "coluna = \"6. Há quanto tempo você trabalha em sua profissão ou especialização atual?\"\n",
    "# Gerando as variáveis dummy\n",
    "dummies = pd.get_dummies(df[coluna], prefix=coluna)\n",
    "df = pd.concat([df, dummies], axis=1)"
   ]
  },
  {
   "cell_type": "code",
   "execution_count": null,
   "id": "bab97408",
   "metadata": {},
   "outputs": [],
   "source": [
    "pasta = 'C:/Users/gabri/OneDrive/Documentos/Anestesia - CMA/Cultura de Segurança/2 - Tabelas com Escores Anuais'\n",
    "df.to_excel(pasta + '/' + '0 - Dados_Limpos.xlsx', index=False)\n",
    "df_bruto = df.copy()\n",
    "len(df)"
   ]
  },
  {
   "cell_type": "markdown",
   "id": "439e7241",
   "metadata": {},
   "source": [
    "# FILTRO FINAL"
   ]
  },
  {
   "cell_type": "code",
   "execution_count": null,
   "id": "15fc9407",
   "metadata": {},
   "outputs": [],
   "source": [
    "df_filter = df[df['Ano'] == 2022]\n",
    "df_filter = df_filter.dropna()\n",
    "df_filter = df_filter.reset_index(drop=True)\n",
    "df_filter.to_excel(pasta + '/' + '0 - Dados_Limpos_estudo_de_coorte.xlsx', index=False)\n",
    "len(df_filter)"
   ]
  },
  {
   "cell_type": "raw",
   "id": "ccd921dc",
   "metadata": {},
   "source": [
    "# inicio = time.time() #iniciando o cronometro\n",
    "\n",
    "df = pd.read_excel('0 - Dados Limpos.xlsx')\n",
    "df.sample(5)\n",
    "\n",
    "fim = time.time() #encerrando cronometro\n",
    "print('Tempo para rodar a simulação:', round(fim - inicio, 3))\n"
   ]
  },
  {
   "cell_type": "code",
   "execution_count": null,
   "id": "0f678e4f",
   "metadata": {
    "scrolled": true
   },
   "outputs": [],
   "source": []
  },
  {
   "cell_type": "code",
   "execution_count": null,
   "id": "f5332208",
   "metadata": {
    "scrolled": true
   },
   "outputs": [],
   "source": []
  },
  {
   "cell_type": "code",
   "execution_count": null,
   "id": "2c20a42a",
   "metadata": {
    "scrolled": true
   },
   "outputs": [],
   "source": []
  },
  {
   "cell_type": "code",
   "execution_count": null,
   "id": "a45be01e",
   "metadata": {
    "scrolled": true
   },
   "outputs": [],
   "source": [
    "stop"
   ]
  },
  {
   "cell_type": "code",
   "execution_count": null,
   "id": "5b62bfaa",
   "metadata": {},
   "outputs": [],
   "source": []
  },
  {
   "cell_type": "code",
   "execution_count": null,
   "id": "d8680fc5",
   "metadata": {},
   "outputs": [],
   "source": []
  },
  {
   "cell_type": "code",
   "execution_count": null,
   "id": "90f77ddd",
   "metadata": {},
   "outputs": [],
   "source": []
  },
  {
   "cell_type": "markdown",
   "id": "8010bab2",
   "metadata": {},
   "source": [
    "# TESTES / ANALISES ================================="
   ]
  },
  {
   "cell_type": "code",
   "execution_count": null,
   "id": "782cbe2b",
   "metadata": {
    "scrolled": true
   },
   "outputs": [],
   "source": [
    "for i in lista:\n",
    "    print('coluna:', i)\n",
    "    print('0: mean(', round(resultado[i][resultado['acreditacao'] == 0].mean(),4), ') ; median(', round(resultado[i][resultado['acreditacao'] == 0].median(),4), ')')\n",
    "    print('1: mean(', round(resultado[i][resultado['acreditacao'] == 1].mean(),4), ') ; median(', round(resultado[i][resultado['acreditacao'] == 1].median(),4), ')')\n",
    "    \n",
    "    a = resultado[i][resultado['acreditacao'] == 0] # amostra a\n",
    "    b = resultado[i][resultado['acreditacao'] == 1] # amostra b\n",
    "    ttest = round(stats.ttest_ind(a,b)[1], 4)\n",
    "    mann = round(stats.mannwhitneyu(a, b)[1], 4)\n",
    "    print('pvalor:  '+str(ttest)+'             '+str(mann))\n",
    "    \n",
    "    grupos = resultado['acreditacao'].unique()\n",
    "\n",
    "    plt.figure(figsize=(10,2))\n",
    "\n",
    "    for grupo in grupos:\n",
    "\n",
    "        if grupo == 0:\n",
    "            label_grupo = \"Sem Acreditação\"\n",
    "        else:\n",
    "            label_grupo = \"Com Acreditação\"\n",
    "\n",
    "        sns.kdeplot(resultado[resultado['acreditacao'] == grupo][i], label=label_grupo)\n",
    "\n",
    "    plt.axvline(x = resultado[i][resultado['acreditacao'] == 0].mean(), color='red', linestyle='--', label='Média sem')\n",
    "    plt.axvline(x = resultado[i][resultado['acreditacao'] == 0].median(), color='blue', linestyle='--', label='Mediana sem')\n",
    "\n",
    "    plt.axvline(x = resultado[i][resultado['acreditacao'] == 1].mean(), color='orange', linestyle='--', label='Média com')\n",
    "    plt.axvline(x = resultado[i][resultado['acreditacao'] == 1].median(), color='brown', linestyle='--', label='Mediana com')\n",
    "\n",
    "    plt.title(i)\n",
    "    plt.legend()\n",
    "    plt.show()\n",
    "    \n",
    "    print('='*125)"
   ]
  },
  {
   "cell_type": "markdown",
   "id": "ec581855",
   "metadata": {},
   "source": [
    "# APLICANDO ANOVA:"
   ]
  },
  {
   "cell_type": "code",
   "execution_count": null,
   "id": "41540651",
   "metadata": {},
   "outputs": [],
   "source": [
    "resultado1 = resultado.rename(columns={\"42. As mudanças de turno são problemáticas para os pacientes deste Hospital\": \"var_num\"})\n",
    "\n",
    "# Ajuste o modelo\n",
    "modelo = ols('var_num ~ C(acreditacao) + C(Regional) + C(acreditacao):C(Regional)', data=resultado1).fit()\n",
    "\n",
    "# Realize a ANOVA e imprima a tabela de resultados\n",
    "anova_table = sm.stats.anova_lm(modelo, typ=2)\n",
    "print(anova_table)\n"
   ]
  },
  {
   "cell_type": "code",
   "execution_count": null,
   "id": "9727ad36",
   "metadata": {},
   "outputs": [],
   "source": [
    "modelo = ols('var_num ~ C(acreditacao)', data = resultado1).fit()\n",
    "\n",
    "# Realize a ANOVA e imprima a tabela de resultados\n",
    "anova_table = sm.stats.anova_lm(modelo, typ=2)\n",
    "print(anova_table)"
   ]
  },
  {
   "cell_type": "code",
   "execution_count": null,
   "id": "6a2dd563",
   "metadata": {},
   "outputs": [],
   "source": [
    "resultado['Regional2'] = np.nan\n",
    "resultado['Regional2'][(resultado['Regional'] == 'SUL') | (resultado['Regional'] == 'SE')] = 'SUL'\n",
    "resultado['Regional2'][(resultado['Regional'] == 'N') | (resultado['Regional'] == 'NE')] = 'NORTE'\n",
    "resultado['Regional2'][resultado['Regional'] == 'CO'] = 'CO'\n",
    "print(resultado['Regional2'].value_counts())\n",
    "\n",
    "##########\n",
    "resultado['Regional3'] = resultado['Regional2']\n",
    "resultado['Regional3'][(resultado['Regional2'] == 'CO') | (resultado['Regional2'] == 'NORTE')] = 'NORTE_OC'\n",
    "print(resultado['Regional3'].value_counts())"
   ]
  },
  {
   "cell_type": "code",
   "execution_count": null,
   "id": "b4a881d6",
   "metadata": {},
   "outputs": [],
   "source": [
    "#resultado.to_excel('tabela3.xlsx')"
   ]
  },
  {
   "cell_type": "code",
   "execution_count": null,
   "id": "eb2e7533",
   "metadata": {
    "scrolled": true
   },
   "outputs": [],
   "source": [
    "for i in lista:\n",
    "    print('coluna:', i)\n",
    "    print('NORTE_OC: mean(', round(resultado[i][resultado['Regional3'] == 'NORTE_OC'].mean(),4), ') ; median(', round(resultado[i][resultado['Regional3'] == 'NORTE_OC'].median(),4), ')')\n",
    "    print('SUL: mean(', round(resultado[i][resultado['Regional3'] == 'SUL'].mean(),4), ') ; median(', round(resultado[i][resultado['Regional3'] == 'SUL'].median(),4), ')')\n",
    "    \n",
    "    a = resultado[i][resultado['Regional3'] == 'NORTE_OC'] # amostra a\n",
    "    b = resultado[i][resultado['Regional3'] == 'SUL'] # amostra b\n",
    "    ttest = round(stats.ttest_ind(a,b)[1], 4)\n",
    "    mann = round(stats.mannwhitneyu(a, b)[1], 4)\n",
    "    print('pvalor:  '+str(ttest)+'             '+str(mann))\n",
    "    \n",
    "    grupos = resultado['Regional3'].unique()\n",
    "\n",
    "    plt.figure(figsize=(10,2))\n",
    "\n",
    "    for grupo in grupos:\n",
    "\n",
    "        if grupo == 'NORTE_OC':\n",
    "            label_grupo = \"NORTE\"\n",
    "        else:\n",
    "            label_grupo = \"SUL\"\n",
    "\n",
    "        sns.kdeplot(resultado[resultado['Regional3'] == grupo][i], label=label_grupo)\n",
    "\n",
    "    plt.axvline(x = resultado[i][resultado['Regional3'] == 'NORTE_OC'].mean(), color='red', linestyle='--', label='Média NORTE')\n",
    "    plt.axvline(x = resultado[i][resultado['Regional3'] == 'NORTE_OC'].median(), color='blue', linestyle='--', label='Mediana NORTE')\n",
    "\n",
    "    plt.axvline(x = resultado[i][resultado['Regional3'] == 'SUL'].mean(), color='orange', linestyle='--', label='Média SUL')\n",
    "    plt.axvline(x = resultado[i][resultado['Regional3'] == 'SUL'].median(), color='brown', linestyle='--', label='Mediana SUL')\n",
    "\n",
    "    plt.title(i)\n",
    "    plt.legend()\n",
    "    plt.show()\n",
    "    \n",
    "    print('='*125)"
   ]
  },
  {
   "cell_type": "code",
   "execution_count": null,
   "id": "d3561192",
   "metadata": {},
   "outputs": [],
   "source": [
    "df"
   ]
  },
  {
   "cell_type": "code",
   "execution_count": null,
   "id": "2396c171",
   "metadata": {},
   "outputs": [],
   "source": [
    "df = pd.read_excel(\"tabela3.xlsx\")\n",
    "print(len(df))\n",
    "df.sample(5)"
   ]
  },
  {
   "cell_type": "markdown",
   "id": "42fd6d75",
   "metadata": {},
   "source": [
    "# VERFICANDO SE HOUVE MELHORA"
   ]
  },
  {
   "cell_type": "code",
   "execution_count": null,
   "id": "892e33cd",
   "metadata": {
    "scrolled": true
   },
   "outputs": [],
   "source": [
    "for i in lista:\n",
    "    print('coluna:', i)\n",
    "    print('0: mean(', round(tabela[i][tabela['acreditacao'] == 0].mean(),4), ') ; median(', round(tabela[i][tabela['acreditacao'] == 0].median(),4), ')')\n",
    "    print('1: mean(', round(tabela[i][tabela['acreditacao'] == 1].mean(),4), ') ; median(', round(tabela[i][tabela['acreditacao'] == 1].median(),4), ')')\n",
    "    \n",
    "    a = tabela[i][tabela['acreditacao'] == 0] # amostra a\n",
    "    b = tabela[i][tabela['acreditacao'] == 1] # amostra b\n",
    "    ttest = round(stats.ttest_ind(a,b)[1], 4)\n",
    "    mann = round(stats.mannwhitneyu(a, b)[1], 4)\n",
    "    print('pvalor:  '+str(ttest)+'             '+str(mann))\n",
    "    \n",
    "    grupos = tabela['acreditacao'].unique()\n",
    "\n",
    "    plt.figure(figsize=(10,2))\n",
    "\n",
    "    for grupo in grupos:\n",
    "\n",
    "        if grupo == 0:\n",
    "            label_grupo = \"Sem Acreditação\"\n",
    "        else:\n",
    "            label_grupo = \"Com Acreditação\"\n",
    "\n",
    "        sns.kdeplot(tabela[tabela['acreditacao'] == grupo][i], label=label_grupo)\n",
    "\n",
    "    plt.axvline(x = tabela[i][tabela['acreditacao'] == 0].mean(), color='red', linestyle='--', label='Média sem')\n",
    "    plt.axvline(x = tabela[i][tabela['acreditacao'] == 0].median(), color='blue', linestyle='--', label='Mediana sem')\n",
    "\n",
    "    plt.axvline(x = tabela[i][tabela['acreditacao'] == 1].mean(), color='orange', linestyle='--', label='Média com')\n",
    "    plt.axvline(x = tabela[i][tabela['acreditacao'] == 1].median(), color='brown', linestyle='--', label='Mediana com')\n",
    "\n",
    "    plt.title(i)\n",
    "    plt.legend()\n",
    "    plt.show()\n",
    "    \n",
    "    print('='*125)"
   ]
  },
  {
   "cell_type": "code",
   "execution_count": null,
   "id": "cca6525b",
   "metadata": {
    "scrolled": true
   },
   "outputs": [],
   "source": [
    "count = 0\n",
    "for unidade in sorted(df['Unidade'].unique()):\n",
    "    if len(df['acreditacao'][df['Unidade'] == unidade].unique()) == 1:\n",
    "        if df['acreditacao'][df['Unidade'] == unidade].unique()[0] == 0:\n",
    "            print(unidade, '='*25)\n",
    "            print(df[df['Unidade'] == unidade].groupby(['Ano', 'acreditacao']).size(), '\\n')\n",
    "            count += 1\n",
    "            \n",
    "print('='*25, 'QUANTIDADE:', count, '='*25)"
   ]
  },
  {
   "cell_type": "code",
   "execution_count": null,
   "id": "556a992d",
   "metadata": {},
   "outputs": [],
   "source": [
    "count = 0 \n",
    "for unidade in sorted(df['Unidade'].unique()):\n",
    "    if len(df['acreditacao'][df['Unidade'] == unidade].unique()) == 1:\n",
    "        if df['acreditacao'][df['Unidade'] == unidade].unique()[0] == 1:\n",
    "            print(unidade, '='*25)\n",
    "            print(df[df['Unidade'] == unidade].groupby(['Ano', 'acreditacao']).size(), '\\n')\n",
    "            count += 1\n",
    "            \n",
    "print('='*25, 'QUANTIDADE:', count, '='*25)"
   ]
  },
  {
   "cell_type": "markdown",
   "id": "3be4c417",
   "metadata": {},
   "source": [
    "# Existe uma mudança no score com o passar do tempo"
   ]
  },
  {
   "cell_type": "code",
   "execution_count": null,
   "id": "968435ae",
   "metadata": {
    "scrolled": true
   },
   "outputs": [],
   "source": [
    "#tabela = df[df['acreditacao'] == 1].reset_index(drop=True)\n",
    "#tabela = df\n",
    "count = 0 \n",
    "for coluna in lista:\n",
    "    subtitulo = ''\n",
    "    mediana = df.groupby(['Ano', 'acreditacao'])[coluna].median().unstack().reset_index()\n",
    "    \n",
    "    ##############################################################################################\n",
    "    for acre in range(0, 2):\n",
    "        X = df['Ano'][df['acreditacao'] == acre]\n",
    "        Y = df[coluna][df['acreditacao'] == acre]\n",
    "        X = sm.add_constant(X)\n",
    "        model = sm.OLS(Y, X)\n",
    "        results = model.fit()\n",
    "        p_valor = round(results.pvalues['Ano'], 3)\n",
    "        if p_valor < 0.001:p_valor=\"<0.001\"\n",
    "        coef = str(round(results.params['Ano'], 2))\n",
    "        interval = results.conf_int(alpha=0.05).loc['Ano']\n",
    "        interval_0 = str(round(interval[0], 2))\n",
    "        interval_1 = str(round(interval[1], 2))\n",
    "        subtitulo = coef + ' (' + interval_0 + ' - ' + interval_1 + ')'\n",
    "        subtitulo = 'p-valor = ' + str(p_valor) + ' | '+ subtitulo\n",
    "        subtitulo = subtitulo + \" | R² = \" + str(round(results.rsquared, 2))\n",
    "        \n",
    "        subtitulo = str(round(Y.mean(), 2)) + \" | \" + subtitulo\n",
    "\n",
    "        plt.figure(figsize=(10,3))\n",
    "        if acre == 0:\n",
    "            cor = \"red\"\n",
    "            plt.title(coluna, fontproperties=fonte, fontsize=16)\n",
    "        else:\n",
    "            cor = 'blue'\n",
    "        sns.scatterplot(x=\"Ano\", y=coluna, data=df[df['acreditacao'] == acre],\n",
    "                           edgecolor = \"black\", color = cor)\n",
    "        sns.lineplot(x='Ano', y=acre, data = mediana, color = 'green')\n",
    "        sns.lineplot(x=\"Ano\", y=coluna, data=df[df['acreditacao'] == acre], color = 'red')\n",
    "\n",
    "        plt.xlabel(subtitulo, fontproperties=fonte, fontsize=13)\n",
    "        plt.ylabel(str(acre)+'acreditação', fontproperties=fonte, fontsize=13)\n",
    "        plt.ylim(0, 100)\n",
    "        plt.show()\n",
    "\n",
    "        ##############################################################################################"
   ]
  },
  {
   "cell_type": "code",
   "execution_count": null,
   "id": "b217cafb",
   "metadata": {
    "scrolled": true
   },
   "outputs": [],
   "source": [
    "#tabela = df[df['acreditacao'] == 1].reset_index(drop=True)\n",
    "#tabela = df\n",
    "count = 0 \n",
    "for coluna in lista:\n",
    "    subtituloo = ''\n",
    "    plt.figure(figsize=(10,3))\n",
    "    sns.lineplot(x=\"Ano\", y=coluna, hue='acreditacao', data=df)\n",
    "    plt.title(coluna, fontproperties=fonte, fontsize=16)\n",
    "    plt.ylabel('Score Médio', fontproperties=fonte, fontsize=13)\n",
    "    #plt.ylim(0, 100)\n",
    "    \n",
    "    ##############################################################################################\n",
    "    for acre in range(0, 2):\n",
    "        X = df['Ano'][df['acreditacao'] == acre]\n",
    "        Y = df[coluna][df['acreditacao'] == acre]\n",
    "        X = sm.add_constant(X)\n",
    "        model = sm.OLS(Y, X)\n",
    "        results = model.fit()\n",
    "        p_valor = round(results.pvalues['Ano'], 3)\n",
    "        if p_valor < 0.001:p_valor=\"<0.001\"\n",
    "        coef = str(round(results.params['Ano'], 2))\n",
    "        interval = results.conf_int(alpha=0.05).loc['Ano']\n",
    "        interval_0 = str(round(interval[0], 2))\n",
    "        interval_1 = str(round(interval[1], 2))\n",
    "        subtitulo = coef + ' (' + interval_0 + ' - ' + interval_1 + ')'\n",
    "        subtitulo = 'p-valor = ' + str(p_valor) + ' | '+ subtitulo\n",
    "        subtitulo = subtitulo + \" | R² = \" + str(round(results.rsquared, 2))\n",
    "        \n",
    "        subtitulo = str(round(Y.mean(), 2)) + \" | \" + subtitulo\n",
    "        subtitulo = str(acre) + \"=> \" + subtitulo\n",
    "        subtitulo = subtitulo + \" | \" + str(round(durbin_watson(results.resid), 2))\n",
    "        \n",
    "        if acre == 1:\n",
    "            subtituloo = subtituloo + '\\n' + subtitulo\n",
    "        else:\n",
    "            subtituloo = subtituloo + subtitulo\n",
    "    \n",
    "    plt.xlabel(subtituloo, fontproperties=fonte, fontsize=13)\n",
    "    plt.show()\n",
    "\n",
    "        ##############################################################################################"
   ]
  },
  {
   "cell_type": "code",
   "execution_count": null,
   "id": "03913ea1",
   "metadata": {},
   "outputs": [],
   "source": [
    "durbinWatson = durbin_watson(results.resid)\n",
    "round(durbinWatson, 2)"
   ]
  },
  {
   "cell_type": "code",
   "execution_count": null,
   "id": "815b11e6",
   "metadata": {},
   "outputs": [],
   "source": [
    "\n",
    "\n",
    "for i in lista:\n",
    "    print('='*25, i, '='*25)\n",
    "    Y = df[i]\n",
    "    X = df[['Ano', 'acreditacao']]\n",
    "    X = sm.add_constant(X)\n",
    "    model = sm.OLS(Y, X)\n",
    "    results = model.fit()\n",
    "    print(results.summary())\n",
    "    durbinWatson = durbin_watson(results.resid)\n",
    "    print('\\n')\n",
    "    print('O valor de Durbin-Watson é:', durbinWatson)\n",
    "    print('\\n')"
   ]
  },
  {
   "cell_type": "code",
   "execution_count": null,
   "id": "5452b1db",
   "metadata": {
    "scrolled": true
   },
   "outputs": [],
   "source": [
    "df"
   ]
  },
  {
   "cell_type": "code",
   "execution_count": null,
   "id": "88d8ad81",
   "metadata": {
    "scrolled": true
   },
   "outputs": [],
   "source": [
    "df"
   ]
  },
  {
   "cell_type": "code",
   "execution_count": null,
   "id": "5198e467",
   "metadata": {
    "scrolled": true
   },
   "outputs": [],
   "source": [
    "lista2 = ['Abertura de comunicação','Feedback e comunicação sobre erros',\n",
    "          'Frequência de eventos relatados','Apoio de gestão hospitalar para segurança do paciente',\n",
    "          'Trabalho em equipe entre as unidades hospitalares','Trabalho em equipe no âmbito das unidades',\n",
    "          'Transferências internas e passagens de plantão','Aprendizado organizacional - melhoria contínua',\n",
    "          'Expectativas de promoção da segurança dos supervisores e gerentes','Percepção gerais sobre segurança',\n",
    "          'Respostas não punitivas aos erros','Staffing']\n",
    "count = 0 \n",
    "for coluna in lista2:\n",
    "    subtituloo = ''\n",
    "    plt.figure(figsize=(10,3))\n",
    "    sns.lineplot(x=\"Ano\", y=coluna, hue='acreditacao', data=df)\n",
    "    plt.title(coluna, fontproperties=fonte, fontsize=16)\n",
    "    plt.ylabel('Score Médio', fontproperties=fonte, fontsize=13)\n",
    "    #plt.ylim(0, 100)\n",
    "    \n",
    "    ##############################################################################################\n",
    "    for acre in range(0, 2):\n",
    "        X = df['Ano'][df['acreditacao'] == acre]\n",
    "        Y = df[coluna][df['acreditacao'] == acre]\n",
    "        X = sm.add_constant(X)\n",
    "        model = sm.OLS(Y, X)\n",
    "        results = model.fit()\n",
    "        p_valor = round(results.pvalues['Ano'], 3)\n",
    "        if p_valor < 0.001:p_valor=\"<0.001\"\n",
    "        coef = str(round(results.params['Ano'], 2))\n",
    "        interval = results.conf_int(alpha=0.05).loc['Ano']\n",
    "        interval_0 = str(round(interval[0], 2))\n",
    "        interval_1 = str(round(interval[1], 2))\n",
    "        subtitulo = coef + ' (' + interval_0 + ' - ' + interval_1 + ')'\n",
    "        subtitulo = 'p-valor = ' + str(p_valor) + ' | '+ subtitulo\n",
    "        subtitulo = subtitulo + \" | R² = \" + str(round(results.rsquared, 2))\n",
    "        \n",
    "        subtitulo = str(round(Y.mean(), 2)) + \" | \" + subtitulo\n",
    "        subtitulo = str(acre) + \"=> \" + subtitulo\n",
    "        subtitulo = subtitulo + \" | \" + str(round(durbin_watson(results.resid), 2))\n",
    "        \n",
    "        if acre == 1:\n",
    "            subtituloo = subtituloo + '\\n' + subtitulo\n",
    "        else:\n",
    "            subtituloo = subtituloo + subtitulo\n",
    "    \n",
    "    plt.xlabel(subtituloo, fontproperties=fonte, fontsize=13)\n",
    "    plt.show()\n",
    "\n",
    "        ##############################################################################################"
   ]
  },
  {
   "cell_type": "code",
   "execution_count": null,
   "id": "2e30b1af",
   "metadata": {},
   "outputs": [],
   "source": [
    "tabela"
   ]
  },
  {
   "cell_type": "code",
   "execution_count": null,
   "id": "11084bb6",
   "metadata": {
    "scrolled": true
   },
   "outputs": [],
   "source": [
    "for i in lista2:\n",
    "    print('coluna:', i)\n",
    "    print('0: mean(', round(tabela[i][tabela['acreditacao'] == 0].mean(),4), ') ; median(', round(tabela[i][tabela['acreditacao'] == 0].median(),4), ')')\n",
    "    print('1: mean(', round(tabela[i][tabela['acreditacao'] == 1].mean(),4), ') ; median(', round(tabela[i][tabela['acreditacao'] == 1].median(),4), ')')\n",
    "    \n",
    "    a = tabela[i][tabela['acreditacao'] == 0] # amostra a\n",
    "    b = tabela[i][tabela['acreditacao'] == 1] # amostra b\n",
    "    ttest = round(stats.ttest_ind(a,b)[1], 4)\n",
    "    mann = round(stats.mannwhitneyu(a, b)[1], 4)\n",
    "    print('pvalor:  '+str(ttest)+'             '+str(mann))\n",
    "    \n",
    "    grupos = tabela['acreditacao'].unique()\n",
    "\n",
    "    plt.figure(figsize=(10,2))\n",
    "\n",
    "    for grupo in grupos:\n",
    "\n",
    "        if grupo == 0:\n",
    "            label_grupo = \"Sem Acreditação\"\n",
    "        else:\n",
    "            label_grupo = \"Com Acreditação\"\n",
    "\n",
    "        sns.kdeplot(tabela[tabela['acreditacao'] == grupo][i], label=label_grupo)\n",
    "\n",
    "    plt.axvline(x = tabela[i][tabela['acreditacao'] == 0].mean(), color='red', linestyle='--', label='Média sem')\n",
    "    plt.axvline(x = tabela[i][tabela['acreditacao'] == 0].median(), color='blue', linestyle='--', label='Mediana sem')\n",
    "\n",
    "    plt.axvline(x = tabela[i][tabela['acreditacao'] == 1].mean(), color='orange', linestyle='--', label='Média com')\n",
    "    plt.axvline(x = tabela[i][tabela['acreditacao'] == 1].median(), color='brown', linestyle='--', label='Mediana com')\n",
    "\n",
    "    plt.title(i)\n",
    "    plt.legend()\n",
    "    plt.show()\n",
    "    \n",
    "    print('='*125)"
   ]
  },
  {
   "cell_type": "code",
   "execution_count": null,
   "id": "99913dee",
   "metadata": {},
   "outputs": [],
   "source": []
  },
  {
   "cell_type": "code",
   "execution_count": null,
   "id": "8729e58d",
   "metadata": {},
   "outputs": [],
   "source": []
  },
  {
   "cell_type": "code",
   "execution_count": null,
   "id": "c35e1b2e",
   "metadata": {},
   "outputs": [],
   "source": []
  }
 ],
 "metadata": {
  "kernelspec": {
   "display_name": "Python 3 (ipykernel)",
   "language": "python",
   "name": "python3"
  },
  "language_info": {
   "codemirror_mode": {
    "name": "ipython",
    "version": 3
   },
   "file_extension": ".py",
   "mimetype": "text/x-python",
   "name": "python",
   "nbconvert_exporter": "python",
   "pygments_lexer": "ipython3",
   "version": "3.12.4"
  }
 },
 "nbformat": 4,
 "nbformat_minor": 5
}
